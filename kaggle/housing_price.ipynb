{
 "cells": [
  {
   "cell_type": "code",
   "execution_count": 6,
   "metadata": {},
   "outputs": [
    {
     "name": "stdout",
     "output_type": "stream",
     "text": [
      "[0.19777222 0.14963313 0.0560888  0.15785587 0.0206452  0.08957871\n",
      " 0.1817191  0.05872283 0.05755507 0.02600571 0.00387339 0.13576711\n",
      " 0.04232562 0.05310933 0.09831463 0.01067251 0.11482352 0.02934571\n",
      " 0.11786111 0.13995167]\n",
      "[3.91138501e-02 2.23900739e-02 3.14595331e-03 2.49184743e-02\n",
      " 4.26224337e-04 8.02434443e-03 3.30218315e-02 3.44837073e-03\n",
      " 3.31258582e-03 6.76297183e-04 1.50031623e-05 1.84327072e-02\n",
      " 1.79145838e-03 2.82060113e-03 9.66576684e-03 1.13902449e-04\n",
      " 1.31844410e-02 8.61170988e-04 1.38912406e-02 1.95864705e-02]\n"
     ]
    }
   ],
   "source": [
    "import os\n",
    "import subprocess\n",
    "import tempfile\n",
    "\n",
    "import tensorflow as tf\n",
    "import numpy as np\n",
    "import matplotlib.pyplot as plt\n",
    "import matplotlib as mpl\n",
    "%matplotlib inline\n",
    "mpl.rcParams['figure.figsize'] = 12, 6\n",
    "mpl.rcParams['image.cmap'] = 'viridis'\n",
    "\n",
    "assert tf.VERSION.split('.') >= ['1','4']\n",
    "\n",
    "logdir = tempfile.mkdtemp()\n",
    "logdir\n",
    "\n",
    "subprocess.Popen(['pkill','-f','tensorboard'])\n",
    "subprocess.Popen(['tensorboard','--logdir',logdir])\n",
    "\n",
    "\n",
    "min_latitude = 33.641336\n",
    "max_latitude = 33.887157\n",
    "delta_latitude = max_latitude - min_latitude\n",
    "\n",
    "min_longitude = -84.558798\n",
    "max_longitude = -84.287259\n",
    "delta_longitude = max_longitude - min_longitude\n",
    "\n",
    "resolution = 100\n",
    "R = np.random.RandomState(1)\n",
    "n_centers = 20\n",
    "centers = R.rand(n_centers, 2)\n",
    "\n",
    "std = 0.2*R.rand(n_centers)\n",
    "var = std**2\n",
    "\n",
    "print(std)\n",
    "print(var)\n",
    "\n",
    "def price()\n",
    "\n"
   ]
  },
  {
   "cell_type": "code",
   "execution_count": null,
   "metadata": {},
   "outputs": [],
   "source": []
  }
 ],
 "metadata": {
  "kernelspec": {
   "display_name": "ai",
   "language": "python",
   "name": "ai"
  },
  "language_info": {
   "codemirror_mode": {
    "name": "ipython",
    "version": 3
   },
   "file_extension": ".py",
   "mimetype": "text/x-python",
   "name": "python",
   "nbconvert_exporter": "python",
   "pygments_lexer": "ipython3",
   "version": "3.6.6"
  }
 },
 "nbformat": 4,
 "nbformat_minor": 2
}
