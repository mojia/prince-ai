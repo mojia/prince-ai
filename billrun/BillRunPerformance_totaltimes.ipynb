{
 "cells": [
  {
   "cell_type": "code",
   "execution_count": 266,
   "metadata": {},
   "outputs": [
    {
     "name": "stdout",
     "output_type": "stream",
     "text": [
      "(189, 18)\n",
      "(402, 18)\n"
     ]
    }
   ],
   "source": [
    "import pandas as pd\n",
    "import numpy as np\n",
    "\n",
    "dir = '/Users/xinwang/Downloads/'\n",
    "\n",
    "Dot_file= dir + 'Dotloop.xlsx'\n",
    "Zillow_file = dir + 'ZG.xlsx'\n",
    "\n",
    "dot_df = pd.read_excel(Dot_file)\n",
    "zillow_df = pd.read_excel(Zillow_file)\n",
    "\n",
    "# 4   total:189\n",
    "print(dot_df.shape)\n",
    "# 16  total:402\n",
    "print(zillow_df.shape)\n"
   ]
  },
  {
   "cell_type": "code",
   "execution_count": 295,
   "metadata": {},
   "outputs": [
    {
     "data": {
      "text/plain": [
       "15554.0"
      ]
     },
     "execution_count": 295,
     "metadata": {},
     "output_type": "execute_result"
    }
   ],
   "source": [
    "dot_df.loc[dot_df['Billing Run: Number Of Invoices']==1]['Billing Run: Total Time'].median()"
   ]
  },
  {
   "cell_type": "code",
   "execution_count": 296,
   "metadata": {},
   "outputs": [
    {
     "data": {
      "text/plain": [
       "258.5"
      ]
     },
     "execution_count": 296,
     "metadata": {},
     "output_type": "execute_result"
    }
   ],
   "source": [
    "zillow_df.loc[zillow_df['Billing Run: Number Of Invoices']==1]['Billing Run: Total Time'].median()"
   ]
  },
  {
   "cell_type": "code",
   "execution_count": null,
   "metadata": {},
   "outputs": [],
   "source": [
    "\n",
    "\n",
    "# dot_df = dot_df[dot_df['Billing Run: Number Of Invoices']>0]\n",
    "# zillow_df = zillow_df[zillow_df['Billing Run: Number Of Invoices']>0]\n",
    "\n",
    "\n",
    "def process_time(df):\n",
    "    df['total_times_second'] = df['Billing Run: Total Time'].apply(lambda x: x/1000) \n",
    "    \n",
    "    df.rename(columns={\n",
    "        'Billing Run: Billing Run Number':'billingrun_number',\n",
    "        'Billing Run: Number Of Invoices':'number_of_invoice'\n",
    "    }, inplace=True)\n",
    "    return df\n",
    "\n",
    "dot_df = process_time(dot_df)\n",
    "zillow_df = process_time(zillow_df)\n",
    "\n",
    "time_columns = ['billingrun_number','number_of_invoice','total_times_second']\n",
    "\n",
    "def process_avg_invoice_time(df):\n",
    "    df['avg_seconds_per_invoice'] = df['number_of_invoice'] / df['total_times_second']\n",
    "    \n",
    "    return df\n",
    "\n",
    "\n",
    "dot_df = process_avg_invoice_time(dot_df)  \n",
    "zillow_df = process_avg_invoice_time(zillow_df) \n",
    "\n",
    "\n",
    "time_columns.append('avg_seconds_per_invoice')\n",
    "\n",
    "zillow_df_avg = zillow_df[time_columns].sort_values(\n",
    "    'number_of_invoice', ascending=False)\n",
    "dot_df_avg = dot_df[time_columns].sort_values(\n",
    "    'number_of_invoice', ascending=False)\n",
    "\n",
    "print(zillow_df_avg['avg_seconds_per_invoice'].iloc[:,].mean())\n",
    "print(dot_df_avg['avg_seconds_per_invoice'].iloc[:,].mean())\n",
    "\n",
    "\n",
    "dot_tax_time = pd.read_csv(dir +'dot_single_account_billrun_tax_times.csv')\n",
    "\n",
    "dot_tax_time['tax_created_on']= pd.to_datetime(dot_tax_time['created_on'])\n",
    "dot_tax_time['tax_updated_on']= pd.to_datetime(dot_tax_time['updated_on'])\n",
    "dot_tax_time.drop(columns=['created_on','updated_on'], axis=1, inplace=True)\n",
    "\n",
    "dot_tax_time['tax_time_seconds'] = (dot_tax_time['tax_updated_on']-dot_tax_time['tax_created_on']) / np.timedelta64(1,'s')\n",
    "\n",
    "\n",
    "dot_df_avg = pd.merge(dot_df_avg,dot_tax_time, on='billingrun_number')\n",
    "\n",
    "dot_df_avg.head()"
   ]
  },
  {
   "cell_type": "code",
   "execution_count": 265,
   "metadata": {},
   "outputs": [],
   "source": [
    "dot_df_avg.to_csv(dir+'Dot_BillRun_tax_analysis.csv', index=False)"
   ]
  },
  {
   "cell_type": "code",
   "execution_count": null,
   "metadata": {},
   "outputs": [],
   "source": []
  }
 ],
 "metadata": {
  "kernelspec": {
   "display_name": "ai",
   "language": "python",
   "name": "ai"
  },
  "language_info": {
   "codemirror_mode": {
    "name": "ipython",
    "version": 3
   },
   "file_extension": ".py",
   "mimetype": "text/x-python",
   "name": "python",
   "nbconvert_exporter": "python",
   "pygments_lexer": "ipython3",
   "version": "3.6.6"
  }
 },
 "nbformat": 4,
 "nbformat_minor": 2
}
