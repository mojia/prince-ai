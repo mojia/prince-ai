{
 "cells": [
  {
   "cell_type": "code",
   "execution_count": 77,
   "metadata": {
    "scrolled": false
   },
   "outputs": [
    {
     "name": "stdout",
     "output_type": "stream",
     "text": [
      "Invoices count 37465 \n",
      " sum time in seconds 30860 \n",
      " sum time in munites 514.3333333333334\n"
     ]
    }
   ],
   "source": [
    "import pandas as pd\n",
    "import numpy as np\n",
    "\n",
    "dir='/Users/xinwang/Downloads/'\n",
    "file='query_result_8a69eb2365d3f92b0165d492bbc90006.csv'\n",
    "\n",
    "\n",
    "df = pd.read_csv(dir+file)\n",
    "df['created_on'] = pd.to_datetime(df['created_on'])\n",
    "\n",
    "\n",
    "def agg_created_on(x):\n",
    "    array = np.array(x)\n",
    "    \n",
    "#     if the one invocie has odd numbers transaction, dicards this sample\n",
    "    if len(array)%2 == 1:\n",
    "        return 0\n",
    "    \n",
    "    if len(array)>1:\n",
    "        for i in range(len(array)):\n",
    "            if i % 2==0:\n",
    "                continue\n",
    "                \n",
    "            if i>0 and i % 2==1:\n",
    "                seconds_betwen_two_transcations = int((array[i] - array[i-1])/1000000000)\n",
    "                \n",
    "                # print out the long transaction for watch out                 \n",
    "                if seconds_betwen_two_transcations>100:\n",
    "                    print('-'*50)\n",
    "                    print(x)\n",
    "                    print('-'*50)\n",
    "                    \n",
    "                return seconds_betwen_two_transcations\n",
    "\n",
    "    return 0\n",
    "    \n",
    "\n",
    "grouped = df.groupby('profile_code')['created_on'].agg(agg_created_on)\n",
    "time_seconds = grouped.values\n",
    "\n",
    "print('Invoices count',len(time_seconds),'\\n',\n",
    "      'sum time in seconds',np.sum(time_seconds),'\\n',\n",
    "      'sum time in munites',np.sum(time_seconds)/60)"
   ]
  },
  {
   "cell_type": "code",
   "execution_count": 54,
   "metadata": {},
   "outputs": [
    {
     "name": "stdout",
     "output_type": "stream",
     "text": [
      "78841\n"
     ]
    }
   ],
   "source": [
    "print(np.max(time_seconds))"
   ]
  },
  {
   "cell_type": "code",
   "execution_count": 65,
   "metadata": {},
   "outputs": [
    {
     "data": {
      "text/plain": [
       "(0, 2)"
      ]
     },
     "execution_count": 65,
     "metadata": {},
     "output_type": "execute_result"
    }
   ],
   "source": [
    "count_group = pd.DataFrame({\n",
    "    'count':df.groupby('invoice')['created_on'].agg('count').values,\n",
    "    'invoice':df.groupby('invoice')['created_on'].agg('count').index\n",
    "})\n",
    "\n",
    "count_group[count_group['count']==7].shape"
   ]
  },
  {
   "cell_type": "code",
   "execution_count": 69,
   "metadata": {},
   "outputs": [
    {
     "data": {
      "text/plain": [
       "(37463,)"
      ]
     },
     "execution_count": 69,
     "metadata": {},
     "output_type": "execute_result"
    }
   ],
   "source": [
    "df.groupby('invoice')['created_on'].agg('count').shape"
   ]
  },
  {
   "cell_type": "code",
   "execution_count": null,
   "metadata": {},
   "outputs": [],
   "source": []
  }
 ],
 "metadata": {
  "kernelspec": {
   "display_name": "ai",
   "language": "python",
   "name": "ai"
  },
  "language_info": {
   "codemirror_mode": {
    "name": "ipython",
    "version": 3
   },
   "file_extension": ".py",
   "mimetype": "text/x-python",
   "name": "python",
   "nbconvert_exporter": "python",
   "pygments_lexer": "ipython3",
   "version": "3.6.6"
  }
 },
 "nbformat": 4,
 "nbformat_minor": 2
}
